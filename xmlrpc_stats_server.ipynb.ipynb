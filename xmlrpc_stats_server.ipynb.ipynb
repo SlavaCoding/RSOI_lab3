{
 "cells": [
  {
   "cell_type": "markdown",
   "metadata": {},
   "source": [
    "#### Файл сервера xmlrpc_stats_server_p3.ipynb на Python 3 "
   ]
  },
  {
   "cell_type": "code",
   "metadata": {
    "jupyter": {
     "is_executing": true
    },
    "ExecuteTime": {
     "start_time": "2024-11-07T16:09:22.011095Z"
    }
   },
   "source": [
    "import pickle\n",
    "import xmlrpc.client\n",
    "import xmlrpc\n",
    "import pandas as pd\n",
    "import os\n",
    "from xmlrpc.server import SimpleXMLRPCServer\n",
    "from xmlrpc.server import SimpleXMLRPCRequestHandler\n",
    "\n",
    "from datetime import datetime\n",
    "\n",
    "class RequestHandler(SimpleXMLRPCRequestHandler):\n",
    "    rpc_paths = ('/RPC2',)\n",
    "\n",
    "server = SimpleXMLRPCServer((\"localhost\", 8018), \n",
    "                            requestHandler=RequestHandler)\n",
    "\n",
    "with open(\"stats_server_setting.txt\", \"r\") as setting_file:\n",
    "    MAX_LINES = int(setting_file.readline())\n",
    "\n",
    "def get_file_len(file):\n",
    "    with open(file, \"r\") as f:\n",
    "        return sum(1 for line in f)\n",
    "\n",
    "def create_log_file(file_name):\n",
    "    f = open(file_name, \"w\")\n",
    "    f.write(\"type,datetime\\n\")\n",
    "    return f\n",
    "\n",
    "\n",
    "# Добавление строки в лог\n",
    "def add_log(sname):\n",
    "    current_time = datetime.datetime.now()\n",
    "    log_format = current_time.strftime(\"%Y-%m-%d %H:%M:%S\")\n",
    "    file_format = current_time.strftime(\"%Y%m%d_%H%M%S\")\n",
    "    files = os.listdir(\"log\")\n",
    "    if files:\n",
    "        # Получаем список файлов\n",
    "        files = [os.path.join(\"log\", f) for f in files]\n",
    "        # Выбираем последний файл\n",
    "        last_file = max(files)\n",
    "        # Определяем количество строк в файле\n",
    "        lines = get_file_len(last_file)\n",
    "        if lines > MAX_LINES: \n",
    "              f = create_log_file(\"log/\"+file_format+\".csv\")\n",
    "        else: f = open(last_file, \"a+\")\n",
    "    else: f = create_log_file(\"log/\"+file_format+\".csv\")\n",
    "    f.write(str(sname)+','+ log_format +'\\n')\n",
    "    f.close()\n",
    "    return True\n",
    "\n",
    "server.register_function(add_log, 'add_log')\n",
    "\n",
    "datetime_format = \"%Y-%m-%d %H:%M:%S\"\n",
    "filename_format = \"log\\%Y%m%d_%H%M%S.csv\"\n",
    "\n",
    "def get_files_by_date(start_date, end_date):\n",
    "    files = os.listdir(\"log\")\n",
    "    if files:\n",
    "        files = [os.path.join(\"log\", f) for f in files]\n",
    "        # Выбираем только те файлы, которые находятся в нужном временном диапазоне\n",
    "        filtered = [file for file in files\n",
    "                    if start_date.strftime(filename_format) <= file <= end_date.strftime(filename_format)]\n",
    "        early_files = [file for file in files if file < start_date.strftime(filename_format)]\n",
    "        if len(early_files) > 0:\n",
    "            # Добавляем последний файл перед указанной датой\n",
    "            last_file = early_files[-1]\n",
    "            filtered.insert(0, last_file)\n",
    "        return filtered\n",
    "    \n",
    "def get_log(start_date, end_date):\n",
    "    files = get_files_by_date(start_date, end_date)\n",
    "    logs = []\n",
    "    for file in files:\n",
    "        logs.append(pd.read_csv(file, sep=',', encoding='utf8'))\n",
    "    log = pd.concat(logs, ignore_index=True)\n",
    "    return log[(start_date.strftime(datetime_format) <= log['datetime']) & \n",
    "               (log['datetime'] <= end_date.strftime(datetime_format))]\n",
    "\n",
    "def load_log(start_time_str, end_time_str, type):\n",
    "    start_time = datetime.strptime(start_time_str, datetime_format)\n",
    "    end_time = datetime.strptime(end_time_str, datetime_format)\n",
    "    filter_log = get_log(start_time, end_time)\n",
    "    # print(filter_log)\n",
    "    filter_log = filter_log[filter_log['type'] == type]\n",
    "    p = pickle.dumps(filter_log)        \n",
    "    return xmlrpc.client.Binary(p)\n",
    "    \n",
    "server.register_function(load_log, 'load_log')\n",
    "\n",
    "print (\"Listening on port 8018...\")\n",
    "server.serve_forever()\n"
   ],
   "outputs": [
    {
     "name": "stdout",
     "output_type": "stream",
     "text": [
      "Listening on port 8018...\n"
     ]
    }
   ],
   "execution_count": null
  },
  {
   "cell_type": "code",
   "execution_count": null,
   "metadata": {},
   "outputs": [],
   "source": []
  }
 ],
 "metadata": {
  "kernelspec": {
   "display_name": "Python 3 (ipykernel)",
   "language": "python",
   "name": "python3"
  },
  "language_info": {
   "codemirror_mode": {
    "name": "ipython",
    "version": 3
   },
   "file_extension": ".py",
   "mimetype": "text/x-python",
   "name": "python",
   "nbconvert_exporter": "python",
   "pygments_lexer": "ipython3",
   "version": "3.9.12"
  }
 },
 "nbformat": 4,
 "nbformat_minor": 2
}
